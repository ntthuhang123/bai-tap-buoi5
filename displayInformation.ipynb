{
 "cells": [
  {
   "cell_type": "code",
   "execution_count": 1,
   "id": "f1897bac",
   "metadata": {},
   "outputs": [
    {
     "name": "stdout",
     "output_type": "stream",
     "text": [
      "Ho va ten: Nguyen Thi Thu Hang\n",
      "Nam sinh: 2001\n",
      "Truong: National Economics University\n"
     ]
    }
   ],
   "source": [
    "print(\"Ho va ten: Nguyen Thi Thu Hang\")\n",
    "print(\"Nam sinh: 2001\")\n",
    "print(\"Truong: National Economics University\")"
   ]
  },
  {
   "cell_type": "code",
   "execution_count": null,
   "id": "375a5a6e",
   "metadata": {},
   "outputs": [],
   "source": []
  }
 ],
 "metadata": {
  "kernelspec": {
   "display_name": "Python 3 (ipykernel)",
   "language": "python",
   "name": "python3"
  },
  "language_info": {
   "codemirror_mode": {
    "name": "ipython",
    "version": 3
   },
   "file_extension": ".py",
   "mimetype": "text/x-python",
   "name": "python",
   "nbconvert_exporter": "python",
   "pygments_lexer": "ipython3",
   "version": "3.9.12"
  }
 },
 "nbformat": 4,
 "nbformat_minor": 5
}
