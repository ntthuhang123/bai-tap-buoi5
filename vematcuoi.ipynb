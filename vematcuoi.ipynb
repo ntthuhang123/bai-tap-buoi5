{
 "cells": [
  {
   "cell_type": "code",
   "execution_count": null,
   "id": "b2797642",
   "metadata": {},
   "outputs": [],
   "source": [
    "import turtle\n",
    "\n",
    "t = turtle.Turtle()\n",
    "# define pen size\n",
    "t.pensize(5)\n",
    "\n",
    "# define pen color\n",
    "t.pencolor(\"Blue\")\n",
    "#for outer bigger circle\n",
    "facesize = 200\n",
    "t.penup()\n",
    "t.goto(0, -200)\n",
    "t.pendown()\n",
    "t.circle(facesize)\n",
    "\n",
    "# for eyes\n",
    "# Màu nền mắt là màu đỏ\n",
    "turtle.fillcolor(\"red\")\n",
    "turtle.penup()\n",
    "turtle.goto(-100, 50)\n",
    "turtle.pendown()\n",
    "\n",
    "# khai bao bien eyesize lưu kích thước mắt\n",
    "eye_size = 17.5\n",
    "\n",
    "turtle.begin_fill()\n",
    "turtle.circle(eye_size)\n",
    "turtle.end_fill()\n",
    "turtle.penup()\n",
    "\n",
    "turtle.goto(100, 50)\n",
    "turtle.pendown()\n",
    "turtle.begin_fill()\n",
    "turtle.circle(eye_size)\n",
    "turtle.end_fill()\n",
    "#for nose\n",
    "turtle.penup()\n",
    "turtle.goto(0,50)\n",
    "turtle.pendown()\n",
    "turtle.circle(-70, steps=3)\n",
    "# for smile\n",
    "turtle.penup()\n",
    "turtle.goto(-100, -70)\n",
    "turtle.pendown()\n",
    "turtle.right(90)\n",
    "turtle.circle(100,180)\n",
    "turtle.done()\n"
   ]
  }
 ],
 "metadata": {
  "kernelspec": {
   "display_name": "Python 3 (ipykernel)",
   "language": "python",
   "name": "python3"
  },
  "language_info": {
   "codemirror_mode": {
    "name": "ipython",
    "version": 3
   },
   "file_extension": ".py",
   "mimetype": "text/x-python",
   "name": "python",
   "nbconvert_exporter": "python",
   "pygments_lexer": "ipython3",
   "version": "3.9.12"
  }
 },
 "nbformat": 4,
 "nbformat_minor": 5
}
