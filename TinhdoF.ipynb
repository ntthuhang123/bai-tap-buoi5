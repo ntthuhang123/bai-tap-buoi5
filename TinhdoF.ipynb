{
 "cells": [
  {
   "cell_type": "code",
   "execution_count": null,
   "id": "ca3b88af",
   "metadata": {},
   "outputs": [],
   "source": [
    "c = float(input(\"nhap vao nhiet do C: \"))\n",
    "f = (9*(int(c))/5)+32\n",
    "print(\"nhiet do F la: \",f)"
   ]
  }
 ],
 "metadata": {
  "kernelspec": {
   "display_name": "Python 3 (ipykernel)",
   "language": "python",
   "name": "python3"
  },
  "language_info": {
   "codemirror_mode": {
    "name": "ipython",
    "version": 3
   },
   "file_extension": ".py",
   "mimetype": "text/x-python",
   "name": "python",
   "nbconvert_exporter": "python",
   "pygments_lexer": "ipython3",
   "version": "3.9.12"
  }
 },
 "nbformat": 4,
 "nbformat_minor": 5
}
